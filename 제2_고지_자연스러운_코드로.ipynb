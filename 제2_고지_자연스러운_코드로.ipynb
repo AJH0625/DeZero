{
  "nbformat": 4,
  "nbformat_minor": 0,
  "metadata": {
    "colab": {
      "name": "제2 고지-자연스러운 코드로",
      "provenance": [],
      "authorship_tag": "ABX9TyMINYWHv9QzIjm6i+XrpuD0",
      "include_colab_link": true
    },
    "kernelspec": {
      "name": "python3",
      "display_name": "Python 3"
    },
    "language_info": {
      "name": "python"
    }
  },
  "cells": [
    {
      "cell_type": "markdown",
      "metadata": {
        "id": "view-in-github",
        "colab_type": "text"
      },
      "source": [
        "<a href=\"https://colab.research.google.com/github/AJH0625/DeZero/blob/main/%EC%A0%9C2_%EA%B3%A0%EC%A7%80_%EC%9E%90%EC%97%B0%EC%8A%A4%EB%9F%AC%EC%9A%B4_%EC%BD%94%EB%93%9C%EB%A1%9C.ipynb\" target=\"_parent\"><img src=\"https://colab.research.google.com/assets/colab-badge.svg\" alt=\"Open In Colab\"/></a>"
      ]
    },
    {
      "cell_type": "markdown",
      "metadata": {
        "id": "ZBwVJtI-HvOj"
      },
      "source": [
        "##11.1 Function 클래스 수정"
      ]
    },
    {
      "cell_type": "code",
      "metadata": {
        "id": "gW5kgbvV6xEq"
      },
      "source": [
        "class Function:\n",
        "  def __call__(self, inputs):\n",
        "    xs = [x.data for x in inputs]\n",
        "    ys = self.forward(xs)\n",
        "    outputs = [Variable(as_array(y)) for y in ys]\n",
        "\n",
        "    for output in outputs:\n",
        "      output.set_creator(self)\n",
        "    self.inputs = inputs\n",
        "    self.outputs = outputs\n",
        "    return outputs\n",
        "\n",
        "  def forward(self, x):\n",
        "    raise NotImplementedError()\n",
        "\n",
        "  def backward(self, gy):\n",
        "    raise NotImplementedError()"
      ],
      "execution_count": 7,
      "outputs": []
    },
    {
      "cell_type": "markdown",
      "metadata": {
        "id": "cQxEH3a0IcAN"
      },
      "source": [
        "##11.2 Add 클래스 구현"
      ]
    },
    {
      "cell_type": "code",
      "metadata": {
        "id": "bxoCERtwIePc"
      },
      "source": [
        "class Add(Function):\n",
        "  def forward(self, xs):\n",
        "    x0, x1 = xs\n",
        "    y = x0 + x1\n",
        "    return (y,)"
      ],
      "execution_count": 8,
      "outputs": []
    },
    {
      "cell_type": "code",
      "metadata": {
        "id": "r-pr225gJTLn"
      },
      "source": [
        "class Variable:\n",
        "  def __init__(self, data):\n",
        "    self.data = data\n",
        "    self.grad = None\n",
        "    self.creator = None\n",
        "  \n",
        "  def set_creator(self,func):\n",
        "    self.creator = func"
      ],
      "execution_count": 13,
      "outputs": []
    },
    {
      "cell_type": "code",
      "metadata": {
        "id": "HnEzWI1XKN-W"
      },
      "source": [
        "def as_array(x):\n",
        "  if np.isscalar(x):\n",
        "    return np.array(x)\n",
        "  return x"
      ],
      "execution_count": 11,
      "outputs": []
    },
    {
      "cell_type": "code",
      "metadata": {
        "colab": {
          "base_uri": "https://localhost:8080/"
        },
        "id": "3sfIM6OrIzyS",
        "outputId": "a0035f54-f3cd-425a-86b1-f640da8474a7"
      },
      "source": [
        "import numpy as np\n",
        "xs = [Variable(np.array(2)), Variable(np.array(3))]\n",
        "f = Add()\n",
        "ys = f(xs)\n",
        "y = ys[0]\n",
        "print(y.data)"
      ],
      "execution_count": 14,
      "outputs": [
        {
          "output_type": "stream",
          "name": "stdout",
          "text": [
            "5\n"
          ]
        }
      ]
    },
    {
      "cell_type": "markdown",
      "metadata": {
        "id": "lr-oSfqwKcq4"
      },
      "source": [
        "##12.1 첫 번째 개선: 함수를 사용하기 쉽게"
      ]
    },
    {
      "cell_type": "code",
      "metadata": {
        "id": "4gloEg8IKkcp"
      },
      "source": [
        "class Function:\n",
        "  def __call__(self, *inputs):\n",
        "    xs = [x.data for x in inputs]\n",
        "    ys = self.forward(xs)\n",
        "    outputs = [Variable(as_array(y)) for y in ys]\n",
        "\n",
        "    for output in outputs:\n",
        "      output.set_creator(self)\n",
        "    self.inputs = inputs\n",
        "    self.outputs = outputs\n",
        "\n",
        "    return outputs if len(outputs) > 1 else outputs[0]"
      ],
      "execution_count": 18,
      "outputs": []
    },
    {
      "cell_type": "code",
      "metadata": {
        "colab": {
          "base_uri": "https://localhost:8080/"
        },
        "id": "NuAbKDmLLP06",
        "outputId": "2b97872b-e6d8-4f6e-8fba-36241967f267"
      },
      "source": [
        "def f(*x):\n",
        "  print(x)\n",
        "\n",
        "f(1,2,3)"
      ],
      "execution_count": 19,
      "outputs": [
        {
          "output_type": "stream",
          "name": "stdout",
          "text": [
            "(1, 2, 3)\n"
          ]
        }
      ]
    },
    {
      "cell_type": "markdown",
      "metadata": {
        "id": "8IEijsRkMCTj"
      },
      "source": [
        "##12.2 두 번째 개선: 함수를 구현하기 쉽도록"
      ]
    },
    {
      "cell_type": "code",
      "metadata": {
        "id": "63bTBEjvMGTe"
      },
      "source": [
        "class Function:\n",
        "  def __call__(self, *inputs):\n",
        "    xs = [x.data for x in inputs]\n",
        "    ys = self.forward(*xs)\n",
        "    if not isinstance(ys, tuple):\n",
        "      ys = (ys,)\n",
        "    outputs = [Variable(as_array(y)) for y in ys]\n",
        "\n",
        "    for output in outputs:\n",
        "      output.set_creator(self)\n",
        "    self.inputs = inputs\n",
        "    self.outputs = outputs\n",
        "\n",
        "    return outputs if len(outputs) > 1 else outputs[0]"
      ],
      "execution_count": 22,
      "outputs": []
    },
    {
      "cell_type": "code",
      "metadata": {
        "id": "zMeaj6NdMSpV"
      },
      "source": [
        "class Add(Function):\n",
        "  def forward(self, x0, x1):\n",
        "    y = x0 + x1\n",
        "    return y"
      ],
      "execution_count": 23,
      "outputs": []
    },
    {
      "cell_type": "markdown",
      "metadata": {
        "id": "HLGD6JqmMZVA"
      },
      "source": [
        "##12.3 add 함수 구현"
      ]
    },
    {
      "cell_type": "code",
      "metadata": {
        "id": "a_8hf4vDMao7"
      },
      "source": [
        "def add(x0, x1):\n",
        "  return Add()(x0, x1)"
      ],
      "execution_count": 24,
      "outputs": []
    },
    {
      "cell_type": "code",
      "metadata": {
        "colab": {
          "base_uri": "https://localhost:8080/"
        },
        "id": "4MmZfdDUMew1",
        "outputId": "18b7080b-bec7-4359-eaeb-371232015794"
      },
      "source": [
        "x0 = Variable(np.array(2))\n",
        "x1 = Variable(np.array(3))\n",
        "y = add(x0, x1)\n",
        "print(y.data)"
      ],
      "execution_count": 25,
      "outputs": [
        {
          "output_type": "stream",
          "name": "stdout",
          "text": [
            "5\n"
          ]
        }
      ]
    },
    {
      "cell_type": "markdown",
      "metadata": {
        "id": "yC4_7wM8M4VT"
      },
      "source": [
        "##13.1 가변 길이 인수에 대응한 Add 클래스의 역전파"
      ]
    },
    {
      "cell_type": "code",
      "metadata": {
        "id": "bo40KEXMM7bF"
      },
      "source": [
        "class Add(Function):\n",
        "  def forward(self, x0, x1):\n",
        "    y = x0 + x1\n",
        "    return y\n",
        "\n",
        "  def backward(self, gy):\n",
        "    return gy,gy"
      ],
      "execution_count": 26,
      "outputs": []
    },
    {
      "cell_type": "markdown",
      "metadata": {
        "id": "CSBeyIjINLUQ"
      },
      "source": [
        "##13.2 Variable 클래스 수정"
      ]
    },
    {
      "cell_type": "code",
      "metadata": {
        "id": "7Kverv4nNWEi"
      },
      "source": [
        "class Variable:\n",
        "    def __init__(self, data):\n",
        "        if data is not None:\n",
        "            if not isinstance(data, np.ndarray):\n",
        "                raise TypeError('{} is not supported'.format(type(data)))\n",
        "\n",
        "        self.data = data\n",
        "        self.grad = None\n",
        "        self.creator = None\n",
        "\n",
        "    def set_creator(self, func):\n",
        "        self.creator = func\n",
        "\n",
        "    def backward(self):\n",
        "        if self.grad is None:\n",
        "            self.grad = np.ones_like(self.data)\n",
        "\n",
        "        funcs = [self.creator]\n",
        "        while funcs:\n",
        "            f = funcs.pop()\n",
        "            gys = [output.grad for output in f.outputs]\n",
        "            gxs = f.backward(*gys)\n",
        "            if not isinstance(gxs, tuple):\n",
        "                gxs = (gxs,)\n",
        "\n",
        "            for x, gx in zip(f.inputs, gxs):\n",
        "                x.grad = gx\n",
        "\n",
        "                if x.creator is not None:\n",
        "                    funcs.append(x.creator)"
      ],
      "execution_count": 28,
      "outputs": []
    },
    {
      "cell_type": "markdown",
      "metadata": {
        "id": "FT1jOUzlOYhg"
      },
      "source": [
        "##13.3 Square 클래스 구현"
      ]
    },
    {
      "cell_type": "code",
      "metadata": {
        "id": "ayVn9RWwOakU"
      },
      "source": [
        "class Square(Function):\n",
        "  def forward(self, x):\n",
        "    y = x**2\n",
        "    return y\n",
        "  \n",
        "  def backward(self, gy):\n",
        "    x = self.inputs[0].data\n",
        "    gx = 2*x*gy\n",
        "    return gx"
      ],
      "execution_count": 29,
      "outputs": []
    },
    {
      "cell_type": "code",
      "metadata": {
        "id": "y9yTPch4OzOl"
      },
      "source": [
        "def square(x):\n",
        "  return Square()(x)"
      ],
      "execution_count": 30,
      "outputs": []
    },
    {
      "cell_type": "code",
      "metadata": {
        "colab": {
          "base_uri": "https://localhost:8080/"
        },
        "id": "VlU1j8CWOknt",
        "outputId": "5baee7de-9300-4784-8d84-e5dbc91d94f5"
      },
      "source": [
        "x = Variable(np.array(2.0))\n",
        "y = Variable(np.array(3.0))\n",
        "\n",
        "z = add(square(x), square(y))\n",
        "z.backward()\n",
        "\n",
        "print(z.data)\n",
        "print(x.grad)\n",
        "print(y.grad)"
      ],
      "execution_count": 31,
      "outputs": [
        {
          "output_type": "stream",
          "name": "stdout",
          "text": [
            "13.0\n",
            "4.0\n",
            "6.0\n"
          ]
        }
      ]
    },
    {
      "cell_type": "markdown",
      "metadata": {
        "id": "rnjvtsYpO5x_"
      },
      "source": [
        "##14.1 해결책"
      ]
    },
    {
      "cell_type": "code",
      "metadata": {
        "id": "9yLFj7FbQFWy"
      },
      "source": [
        "class Variable:\n",
        "    def __init__(self, data):\n",
        "        if data is not None:\n",
        "            if not isinstance(data, np.ndarray):\n",
        "                raise TypeError('{} is not supported'.format(type(data)))\n",
        "\n",
        "        self.data = data\n",
        "        self.grad = None\n",
        "        self.creator = None\n",
        "\n",
        "    def set_creator(self, func):\n",
        "        self.creator = func\n",
        "\n",
        "    def backward(self):\n",
        "        if self.grad is None:\n",
        "            self.grad = np.ones_like(self.data)\n",
        "\n",
        "        funcs = [self.creator]\n",
        "        while funcs:\n",
        "            f = funcs.pop()\n",
        "            gys = [output.grad for output in f.outputs]\n",
        "            gxs = f.backward(*gys)\n",
        "            if not isinstance(gxs, tuple):\n",
        "                gxs = (gxs,)\n",
        "\n",
        "            for x, gx in zip(f.inputs, gxs):\n",
        "              if x.grad is None:\n",
        "                x.grad = gx\n",
        "              else:\n",
        "                x.grad = x.grad+gx\n",
        "\n",
        "                if x.creator is not None:\n",
        "                    funcs.append(x.creator)"
      ],
      "execution_count": 32,
      "outputs": []
    },
    {
      "cell_type": "code",
      "metadata": {
        "colab": {
          "base_uri": "https://localhost:8080/"
        },
        "id": "l_Kp39ZjQQK7",
        "outputId": "04d98a1c-bfc4-4cb9-82d2-cc0471ee62c8"
      },
      "source": [
        "x = Variable(np.array(3.0))\n",
        "y = add(x,x)\n",
        "y.backward()\n",
        "print(x.grad)"
      ],
      "execution_count": 34,
      "outputs": [
        {
          "output_type": "stream",
          "name": "stdout",
          "text": [
            "2.0\n"
          ]
        }
      ]
    },
    {
      "cell_type": "markdown",
      "metadata": {
        "id": "sv9cRA_KQfrB"
      },
      "source": [
        "##14.3 미분값 재설정"
      ]
    },
    {
      "cell_type": "code",
      "metadata": {
        "id": "LoqH4Z4NQhwy"
      },
      "source": [
        "class Variable:\n",
        "    def __init__(self, data):\n",
        "        if data is not None:\n",
        "            if not isinstance(data, np.ndarray):\n",
        "                raise TypeError('{} is not supported'.format(type(data)))\n",
        "\n",
        "        self.data = data\n",
        "        self.grad = None\n",
        "        self.creator = None\n",
        "\n",
        "    def set_creator(self, func):\n",
        "        self.creator = func\n",
        "\n",
        "    def backward(self):\n",
        "      if self.grad is None:\n",
        "        self.grad = np.ones_like(self.data)\n",
        "\n",
        "      funcs = [self.creator]\n",
        "      while funcs:\n",
        "        f = funcs.pop()\n",
        "        gys = [output.grad for output in f.outputs]\n",
        "        gxs = f.backward(*gys)\n",
        "        if not isinstance(gxs, tuple):\n",
        "          gxs = (gxs,)\n",
        "\n",
        "        for x, gx in zip(f.inputs, gxs):\n",
        "          if x.grad is None:\n",
        "            x.grad = gx\n",
        "          else:\n",
        "            x.grad = x.grad+gx\n",
        "          if x.creator is not None:\n",
        "            funcs.append(x.creator)\n",
        "\n",
        "    def cleargrad(self):\n",
        "      self.grad = None"
      ],
      "execution_count": 40,
      "outputs": []
    },
    {
      "cell_type": "code",
      "metadata": {
        "colab": {
          "base_uri": "https://localhost:8080/"
        },
        "id": "ztH1Ge2STDGi",
        "outputId": "255a70a8-09bd-49b7-e3c6-a01bc8095f85"
      },
      "source": [
        "x = Variable(np.array(3.0))\n",
        "y = add(add(x,x),x)\n",
        "y.backward()\n",
        "print(x.grad)"
      ],
      "execution_count": 41,
      "outputs": [
        {
          "output_type": "stream",
          "name": "stdout",
          "text": [
            "3.0\n"
          ]
        }
      ]
    },
    {
      "cell_type": "markdown",
      "metadata": {
        "id": "xADnR3rjWVfC"
      },
      "source": [
        "##16.1 세대추가"
      ]
    },
    {
      "cell_type": "code",
      "metadata": {
        "id": "H0jHJmUlWX-D"
      },
      "source": [
        "class Variable:\n",
        "    def __init__(self, data):\n",
        "        if data is not None:\n",
        "            if not isinstance(data, np.ndarray):\n",
        "                raise TypeError('{} is not supported'.format(type(data)))\n",
        "\n",
        "        self.data = data\n",
        "        self.grad = None\n",
        "        self.creator = None\n",
        "        self.generation = 0\n",
        "\n",
        "    def set_creator(self, func):\n",
        "        self.creator = func\n",
        "        self.generation = func.generation + 1\n",
        "\n",
        "    def backward(self):\n",
        "      if self.grad is None:\n",
        "        self.grad = np.ones_like(self.data)\n",
        "\n",
        "      funcs = [self.creator]\n",
        "      while funcs:\n",
        "        f = funcs.pop()\n",
        "        gys = [output.grad for output in f.outputs]\n",
        "        gxs = f.backward(*gys)\n",
        "        if not isinstance(gxs, tuple):\n",
        "          gxs = (gxs,)\n",
        "\n",
        "        for x, gx in zip(f.inputs, gxs):\n",
        "          if x.grad is None:\n",
        "            x.grad = gx\n",
        "          else:\n",
        "            x.grad = x.grad+gx\n",
        "          if x.creator is not None:\n",
        "            funcs.append(x.creator)\n",
        "\n",
        "    def cleargrad(self):\n",
        "      self.grad = None"
      ],
      "execution_count": 42,
      "outputs": []
    },
    {
      "cell_type": "code",
      "metadata": {
        "id": "sfJxLE8oWupe"
      },
      "source": [
        "class Function:\n",
        "  def __call__(self, *inputs):\n",
        "    xs = [x.data for x in inputs]\n",
        "    ys = self.forward(*xs)\n",
        "    if not isinstance(ys, tuple):\n",
        "      ys = (ys,)\n",
        "    outputs = [Variable(as_array(y)) for y in ys]\n",
        "\n",
        "    self.generation = max([x.generation for x in inpus])\n",
        "    for output in outputs:\n",
        "      output.set_creator(self)\n",
        "    self.inputs = inputs\n",
        "    self.outputs = outputs\n",
        "\n",
        "    return outputs if len(outputs) > 1 else outputs[0]"
      ],
      "execution_count": 44,
      "outputs": []
    },
    {
      "cell_type": "markdown",
      "metadata": {
        "id": "BjndZa5tXNW6"
      },
      "source": [
        "##16.3 Variable 클래스의 backward"
      ]
    },
    {
      "cell_type": "code",
      "metadata": {
        "id": "3DoJT_qmXPU3"
      },
      "source": [
        "class Variable:\n",
        "    def __init__(self, data):\n",
        "        if data is not None:\n",
        "            if not isinstance(data, np.ndarray):\n",
        "                raise TypeError('{} is not supported'.format(type(data)))\n",
        "\n",
        "        self.data = data\n",
        "        self.grad = None\n",
        "        self.creator = None\n",
        "        self.generation = 0\n",
        "\n",
        "    def set_creator(self, func):\n",
        "        self.creator = func\n",
        "        self.generation = func.generation + 1\n",
        "\n",
        "    def backward(self):\n",
        "      if self.grad is None:\n",
        "        self.grad = np.ones_like(self.data)\n",
        "\n",
        "      funcs = []\n",
        "      seen_set = set()\n",
        "\n",
        "      def add_func(f):\n",
        "        if f not in seen_set:\n",
        "          funcs.append(f)\n",
        "          seen_set.add(f)\n",
        "          funcs.sort(key=lambda x: x.generation)\n",
        "\n",
        "      add_func(self.creator)\n",
        "\n",
        "      while funcs:\n",
        "        f = funcs.pop()\n",
        "        gys = [output.grad for output in f.outputs]\n",
        "        gxs = f.backward(*gys)\n",
        "        if not isinstance(gxs, tuple):\n",
        "          gxs = (gxs,)\n",
        "\n",
        "        for x, gx in zip(f.inputs, gxs):\n",
        "          if x.grad is None:\n",
        "            x.grad = gx\n",
        "          else:\n",
        "            x.grad = x.grad+gx\n",
        "          if x.creator is not None:\n",
        "            add_func(x.creator)\n",
        "\n",
        "    def cleargrad(self):\n",
        "      self.grad = None"
      ],
      "execution_count": 47,
      "outputs": []
    },
    {
      "cell_type": "markdown",
      "metadata": {
        "id": "WgGPkd0laxY7"
      },
      "source": [
        "##17.4 weakref 모듈"
      ]
    },
    {
      "cell_type": "code",
      "metadata": {
        "colab": {
          "base_uri": "https://localhost:8080/"
        },
        "id": "NkXMhPsHa0Lw",
        "outputId": "19b80bac-c0b1-4715-f87f-8295c64c7b93"
      },
      "source": [
        "import weakref\n",
        "import numpy as np\n",
        "\n",
        "a = np.array([1,2,3])\n",
        "b = weakref.ref(a)\n",
        "\n",
        "print(b)\n",
        "print(b())"
      ],
      "execution_count": 50,
      "outputs": [
        {
          "output_type": "stream",
          "name": "stdout",
          "text": [
            "<weakref at 0x7f55a08782f0; to 'numpy.ndarray' at 0x7f55a081e120>\n",
            "[1 2 3]\n"
          ]
        }
      ]
    },
    {
      "cell_type": "code",
      "metadata": {
        "id": "ECVZiZIIbFt2"
      },
      "source": [
        "import weakref\n",
        "\n",
        "class Function:\n",
        "  def __call__(self, *inputs):\n",
        "    xs = [x.data for x in inputs]\n",
        "    ys = self.forward(*xs)\n",
        "    if not isinstance(ys, tuple):\n",
        "      ys = (ys,)\n",
        "    outputs = [Variable(as_array(y)) for y in ys]\n",
        "\n",
        "    self.generation = max([x.generation for x in inpus])\n",
        "    for output in outputs:\n",
        "      output.set_creator(self)\n",
        "    self.inputs = inputs\n",
        "    self.outputs = [weakref.ref(output) for output in outputs]\n",
        "\n",
        "    return outputs if len(outputs) > 1 else outputs[0]"
      ],
      "execution_count": 51,
      "outputs": []
    },
    {
      "cell_type": "code",
      "metadata": {
        "id": "57B4VwqEbUgE"
      },
      "source": [
        "class Variable:\n",
        "    def __init__(self, data):\n",
        "        if data is not None:\n",
        "            if not isinstance(data, np.ndarray):\n",
        "                raise TypeError('{} is not supported'.format(type(data)))\n",
        "\n",
        "        self.data = data\n",
        "        self.grad = None\n",
        "        self.creator = None\n",
        "        self.generation = 0\n",
        "\n",
        "    def set_creator(self, func):\n",
        "        self.creator = func\n",
        "        self.generation = func.generation + 1\n",
        "\n",
        "    def backward(self):\n",
        "      if self.grad is None:\n",
        "        self.grad = np.ones_like(self.data)\n",
        "\n",
        "      funcs = []\n",
        "      seen_set = set()\n",
        "\n",
        "      def add_func(f):\n",
        "        if f not in seen_set:\n",
        "          funcs.append(f)\n",
        "          seen_set.add(f)\n",
        "          funcs.sort(key=lambda x: x.generation)\n",
        "\n",
        "      add_func(self.creator)\n",
        "\n",
        "      while funcs:\n",
        "        f = funcs.pop()\n",
        "        gys = [output().grad for output in f.outputs]\n",
        "        gxs = f.backward(*gys)\n",
        "        if not isinstance(gxs, tuple):\n",
        "          gxs = (gxs,)\n",
        "\n",
        "        for x, gx in zip(f.inputs, gxs):\n",
        "          if x.grad is None:\n",
        "            x.grad = gx\n",
        "          else:\n",
        "            x.grad = x.grad+gx\n",
        "          if x.creator is not None:\n",
        "            add_func(x.creator)\n",
        "\n",
        "    def cleargrad(self):\n",
        "      self.grad = None"
      ],
      "execution_count": 52,
      "outputs": []
    },
    {
      "cell_type": "markdown",
      "metadata": {
        "id": "6uj8mJTK5lI8"
      },
      "source": [
        "##18.1 필요없는 미분값 삭제"
      ]
    },
    {
      "cell_type": "code",
      "metadata": {
        "id": "StPKSYSC5nkB"
      },
      "source": [
        "class Variable:\n",
        "    def __init__(self, data):\n",
        "        if data is not None:\n",
        "            if not isinstance(data, np.ndarray):\n",
        "                raise TypeError('{} is not supported'.format(type(data)))\n",
        "\n",
        "        self.data = data\n",
        "        self.grad = None\n",
        "        self.creator = None\n",
        "        self.generation = 0\n",
        "\n",
        "    def set_creator(self, func):\n",
        "        self.creator = func\n",
        "        self.generation = func.generation + 1\n",
        "\n",
        "    def backward(self, retain_grad=False):\n",
        "      if self.grad is None:\n",
        "        self.grad = np.ones_like(self.data)\n",
        "\n",
        "      funcs = []\n",
        "      seen_set = set()\n",
        "\n",
        "      def add_func(f):\n",
        "        if f not in seen_set:\n",
        "          funcs.append(f)\n",
        "          seen_set.add(f)\n",
        "          funcs.sort(key=lambda x: x.generation)\n",
        "\n",
        "      add_func(self.creator)\n",
        "\n",
        "      while funcs:\n",
        "        f = funcs.pop()\n",
        "        gys = [output().grad for output in f.outputs]\n",
        "        gxs = f.backward(*gys)\n",
        "        if not isinstance(gxs, tuple):\n",
        "          gxs = (gxs,)\n",
        "\n",
        "        for x, gx in zip(f.inputs, gxs):\n",
        "          if x.grad is None:\n",
        "            x.grad = gx\n",
        "          else:\n",
        "            x.grad = x.grad+gx\n",
        "            if x.creator is not None:\n",
        "              add_func(x.creator)\n",
        "\n",
        "          if not retain_grad:\n",
        "            for y in f.outputs:\n",
        "              y().grad = None\n",
        "\n",
        "    def cleargrad(self):\n",
        "      self.grad = None"
      ],
      "execution_count": 2,
      "outputs": []
    }
  ]
}