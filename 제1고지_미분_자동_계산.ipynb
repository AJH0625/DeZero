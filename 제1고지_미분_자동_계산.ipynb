{
  "nbformat": 4,
  "nbformat_minor": 0,
  "metadata": {
    "colab": {
      "name": "제1고지-미분 자동 계산",
      "provenance": []
    },
    "kernelspec": {
      "name": "python3",
      "display_name": "Python 3"
    },
    "language_info": {
      "name": "python"
    }
  },
  "cells": [
    {
      "cell_type": "markdown",
      "metadata": {
        "id": "DS0Hf1kNLa8g"
      },
      "source": [
        "##1.2 Variable 클래스 구현"
      ]
    },
    {
      "cell_type": "code",
      "metadata": {
        "id": "udcp5a_lKVuw"
      },
      "source": [
        "class Variable:\n",
        "  def __init__(self, data):\n",
        "    self.data = data"
      ],
      "execution_count": 1,
      "outputs": []
    },
    {
      "cell_type": "code",
      "metadata": {
        "colab": {
          "base_uri": "https://localhost:8080/"
        },
        "id": "PKV_hMaeLRqS",
        "outputId": "17a8ab89-8a33-4d65-fb23-8dfd2c6039ba"
      },
      "source": [
        "import numpy as np\n",
        "\n",
        "data = np.array(1.0)\n",
        "x = Variable(data)\n",
        "print(x.data)"
      ],
      "execution_count": 2,
      "outputs": [
        {
          "output_type": "stream",
          "name": "stdout",
          "text": [
            "1.0\n"
          ]
        }
      ]
    },
    {
      "cell_type": "code",
      "metadata": {
        "colab": {
          "base_uri": "https://localhost:8080/"
        },
        "id": "bJwD0BA5LWs5",
        "outputId": "374b9de4-0cf1-4b09-c73b-5ba6eba919f2"
      },
      "source": [
        "x.data = np.array(2.0)\n",
        "print(x.data)"
      ],
      "execution_count": 3,
      "outputs": [
        {
          "output_type": "stream",
          "name": "stdout",
          "text": [
            "2.0\n"
          ]
        }
      ]
    },
    {
      "cell_type": "markdown",
      "metadata": {
        "id": "HpXaBa3NLfKI"
      },
      "source": [
        "##1.3 넘파이의 다차원 배열"
      ]
    },
    {
      "cell_type": "code",
      "metadata": {
        "colab": {
          "base_uri": "https://localhost:8080/"
        },
        "id": "v0F_rYV4Lhj7",
        "outputId": "6e2692b2-5432-438e-e49c-5ed1facae2dd"
      },
      "source": [
        "import numpy as np\n",
        "x = np.array(1)\n",
        "x.ndim"
      ],
      "execution_count": 4,
      "outputs": [
        {
          "output_type": "execute_result",
          "data": {
            "text/plain": [
              "0"
            ]
          },
          "metadata": {},
          "execution_count": 4
        }
      ]
    },
    {
      "cell_type": "code",
      "metadata": {
        "colab": {
          "base_uri": "https://localhost:8080/"
        },
        "id": "TaL8Bgt-Ll_M",
        "outputId": "a24af538-40df-4158-8b26-bbc2476dedfd"
      },
      "source": [
        "x = np.array([1,2,3])\n",
        "x.ndim"
      ],
      "execution_count": 5,
      "outputs": [
        {
          "output_type": "execute_result",
          "data": {
            "text/plain": [
              "1"
            ]
          },
          "metadata": {},
          "execution_count": 5
        }
      ]
    },
    {
      "cell_type": "code",
      "metadata": {
        "colab": {
          "base_uri": "https://localhost:8080/"
        },
        "id": "RWHytBWgLoYA",
        "outputId": "9aaa1f34-39ac-42ef-f145-3fc4dd61f709"
      },
      "source": [
        "x = np.array([[1,2,3],\n",
        "              [4,5,6]])\n",
        "x.ndim"
      ],
      "execution_count": 6,
      "outputs": [
        {
          "output_type": "execute_result",
          "data": {
            "text/plain": [
              "2"
            ]
          },
          "metadata": {},
          "execution_count": 6
        }
      ]
    },
    {
      "cell_type": "markdown",
      "metadata": {
        "id": "zZC1Hk3kLtxe"
      },
      "source": [
        "##2.2 Fucntion 클래스 구현"
      ]
    },
    {
      "cell_type": "code",
      "metadata": {
        "id": "DSaRhxAfLvT9"
      },
      "source": [
        "class Function:\n",
        "  def __call__(self, input):\n",
        "    x = input.data\n",
        "    y = x**2\n",
        "    output = Variable(y)\n",
        "    return output"
      ],
      "execution_count": 7,
      "outputs": []
    },
    {
      "cell_type": "markdown",
      "metadata": {
        "id": "H_qjdx8eL5uj"
      },
      "source": [
        "##2.3 Function 클래스 이용"
      ]
    },
    {
      "cell_type": "code",
      "metadata": {
        "colab": {
          "base_uri": "https://localhost:8080/"
        },
        "id": "Wy-Cqx9XL7nj",
        "outputId": "c74c16fa-d254-4452-e066-ac57bbed8640"
      },
      "source": [
        "x = Variable(np.array(10))\n",
        "f = Function()\n",
        "y = f(x)\n",
        "\n",
        "print(type(y))\n",
        "print(y.data)"
      ],
      "execution_count": 8,
      "outputs": [
        {
          "output_type": "stream",
          "name": "stdout",
          "text": [
            "<class '__main__.Variable'>\n",
            "100\n"
          ]
        }
      ]
    },
    {
      "cell_type": "code",
      "metadata": {
        "id": "oIdlc2AQMFB1"
      },
      "source": [
        "class Function:\n",
        "  def __call__(self, input):\n",
        "    x = input.data\n",
        "    y = self.forward(x)\n",
        "    output = Variable(y)\n",
        "    return output\n",
        "\n",
        "  def forward(self,x):\n",
        "    raise NotImplementedError()"
      ],
      "execution_count": 9,
      "outputs": []
    },
    {
      "cell_type": "code",
      "metadata": {
        "id": "0sC8uHBLMVC_"
      },
      "source": [
        "class Square(Function):\n",
        "  def forward(self,x):\n",
        "    return x**2"
      ],
      "execution_count": 10,
      "outputs": []
    },
    {
      "cell_type": "code",
      "metadata": {
        "colab": {
          "base_uri": "https://localhost:8080/"
        },
        "id": "VpnO_2pqMZor",
        "outputId": "bc83a6a6-4eae-4c8b-e337-6764a3c742e1"
      },
      "source": [
        "x = Variable(np.array(10))\n",
        "f = Square()\n",
        "y = f(x)\n",
        "print(type(y))\n",
        "print(y.data)"
      ],
      "execution_count": 11,
      "outputs": [
        {
          "output_type": "stream",
          "name": "stdout",
          "text": [
            "<class '__main__.Variable'>\n",
            "100\n"
          ]
        }
      ]
    },
    {
      "cell_type": "markdown",
      "metadata": {
        "id": "okP0t0xoMgoq"
      },
      "source": [
        "##3.1 Exp 함수 구현"
      ]
    },
    {
      "cell_type": "code",
      "metadata": {
        "id": "pBc-LvoxMh6S"
      },
      "source": [
        "class Exp(Function):\n",
        "  def forward(self,x):\n",
        "    return np.exp(x)"
      ],
      "execution_count": 12,
      "outputs": []
    },
    {
      "cell_type": "markdown",
      "metadata": {
        "id": "47ImgyV1Mnk2"
      },
      "source": [
        "##3.2 함수 연결"
      ]
    },
    {
      "cell_type": "code",
      "metadata": {
        "colab": {
          "base_uri": "https://localhost:8080/"
        },
        "id": "vMC5ncp5MpC1",
        "outputId": "053ba481-9e5a-4fee-e8a4-69d08b02d1e7"
      },
      "source": [
        "A = Square()\n",
        "B = Exp()\n",
        "C = Square()\n",
        "\n",
        "x = Variable(np.array(0.5))\n",
        "a = A(x)\n",
        "b = B(a)\n",
        "y = C(b)\n",
        "print(y.data)"
      ],
      "execution_count": 13,
      "outputs": [
        {
          "output_type": "stream",
          "name": "stdout",
          "text": [
            "1.648721270700128\n"
          ]
        }
      ]
    },
    {
      "cell_type": "markdown",
      "metadata": {
        "id": "1XPpcypOM0cY"
      },
      "source": [
        "##4.2 수치 미분 구현"
      ]
    },
    {
      "cell_type": "code",
      "metadata": {
        "id": "gtEK_2aFM1sc"
      },
      "source": [
        "def numerical_diff(f, x, eps=1e-4):\n",
        "  x0 = Variable(x.data-eps)\n",
        "  x1 = Variable(x.data+eps)\n",
        "  y0 = f(x0)\n",
        "  y1 = f(x1)\n",
        "  return (y1.data - y0.data) / (2*eps)"
      ],
      "execution_count": 14,
      "outputs": []
    },
    {
      "cell_type": "code",
      "metadata": {
        "colab": {
          "base_uri": "https://localhost:8080/"
        },
        "id": "ZTPRd01zM__C",
        "outputId": "46bc4255-b31f-49c9-f71e-c32f1bd35ebf"
      },
      "source": [
        "f = Square()\n",
        "x = Variable(np.array(2.0))\n",
        "dy = numerical_diff(f,x)\n",
        "print(dy)"
      ],
      "execution_count": 15,
      "outputs": [
        {
          "output_type": "stream",
          "name": "stdout",
          "text": [
            "4.000000000004\n"
          ]
        }
      ]
    },
    {
      "cell_type": "markdown",
      "metadata": {
        "id": "4ogaGBoJNPCc"
      },
      "source": [
        "##4.3 합성 함수의 미분"
      ]
    },
    {
      "cell_type": "code",
      "metadata": {
        "colab": {
          "base_uri": "https://localhost:8080/"
        },
        "id": "VndMWXw8NQZT",
        "outputId": "b16144d5-30f3-4e40-bf1e-b6e468ae7dde"
      },
      "source": [
        "def f(x):\n",
        "  A = Square()\n",
        "  B = Exp()\n",
        "  C = Square()\n",
        "  return C(B(A(x)))\n",
        "\n",
        "x = Variable(np.array(0.5))\n",
        "dy = numerical_diff(f,x)\n",
        "print(dy)"
      ],
      "execution_count": 16,
      "outputs": [
        {
          "output_type": "stream",
          "name": "stdout",
          "text": [
            "3.2974426293330694\n"
          ]
        }
      ]
    },
    {
      "cell_type": "markdown",
      "metadata": {
        "id": "Xr-4NMAXNk53"
      },
      "source": [
        "##6.1 Variable 클래스 추가 구현"
      ]
    },
    {
      "cell_type": "code",
      "metadata": {
        "id": "uYyErbaNNnA3"
      },
      "source": [
        "class Variable:\n",
        "  def __init__(self, data):\n",
        "    self.data = data\n",
        "    self.grad = None"
      ],
      "execution_count": 17,
      "outputs": []
    },
    {
      "cell_type": "markdown",
      "metadata": {
        "id": "E_KyPfcpNsN8"
      },
      "source": [
        "##6.2 Function 클래스 추가 구현"
      ]
    },
    {
      "cell_type": "code",
      "metadata": {
        "id": "r_pjRKnvNuk4"
      },
      "source": [
        "class Function:\n",
        "  def __call__(self, input):\n",
        "    x = input.data\n",
        "    y = self.forward(x)\n",
        "    output = Variable(y)\n",
        "    self.input = input\n",
        "    return output\n",
        "\n",
        "  def forward(self,x):\n",
        "    raise NotImplementedError()\n",
        "\n",
        "  def backward(self, gy):\n",
        "    raise NotImplementedError()"
      ],
      "execution_count": 18,
      "outputs": []
    },
    {
      "cell_type": "markdown",
      "metadata": {
        "id": "x15rIqqxN8-A"
      },
      "source": [
        "##6.3 Squre와 Exp 클래스 추가 구현"
      ]
    },
    {
      "cell_type": "code",
      "metadata": {
        "id": "ODhC-O2ZN_Kt"
      },
      "source": [
        "class Square(Function):\n",
        "  def forward(self,x):\n",
        "    y = x**2\n",
        "    return y\n",
        "\n",
        "  def backward(self, gy):\n",
        "    x = self.input.data\n",
        "    gx = 2*x*gy\n",
        "    return gx"
      ],
      "execution_count": 19,
      "outputs": []
    },
    {
      "cell_type": "code",
      "metadata": {
        "id": "65WliZysOK0y"
      },
      "source": [
        "class Exp(Function):\n",
        "  def forward(self,x):\n",
        "    y = np.exp(x)\n",
        "    return y\n",
        "\n",
        "  def backward(self,gy):\n",
        "    x = self.input.data\n",
        "    gx = np.exp(x) * gy\n",
        "    return gx"
      ],
      "execution_count": 20,
      "outputs": []
    },
    {
      "cell_type": "markdown",
      "metadata": {
        "id": "4xHGo7cTOUmF"
      },
      "source": [
        "##6.4 역전파 구현"
      ]
    },
    {
      "cell_type": "code",
      "metadata": {
        "id": "RRrukgi5OWLM"
      },
      "source": [
        "A = Square()\n",
        "B = Exp()\n",
        "C = Square()\n",
        "\n",
        "x = Variable(np.array(0.5))\n",
        "a = A(x)\n",
        "b = B(a)\n",
        "y = C(b)"
      ],
      "execution_count": 21,
      "outputs": []
    },
    {
      "cell_type": "code",
      "metadata": {
        "colab": {
          "base_uri": "https://localhost:8080/"
        },
        "id": "jbtjjf3TOee4",
        "outputId": "248a21db-49e8-45fa-cf51-dfb090b4eab5"
      },
      "source": [
        "y.grad = np.array(1.0)\n",
        "b.grad = C.backward(y.grad)\n",
        "a.grad = B.backward(b.grad)\n",
        "x.grad = A.backward(a.grad)\n",
        "print(x.grad)"
      ],
      "execution_count": 22,
      "outputs": [
        {
          "output_type": "stream",
          "name": "stdout",
          "text": [
            "3.297442541400256\n"
          ]
        }
      ]
    },
    {
      "cell_type": "markdown",
      "metadata": {
        "id": "iPI_iYnfOo-t"
      },
      "source": [
        "##7.1 역전파 자동화의 시작"
      ]
    },
    {
      "cell_type": "code",
      "metadata": {
        "id": "kRVJtffNOrGm"
      },
      "source": [
        "class Variable:\n",
        "  def __init__(self, data):\n",
        "    self.data = data\n",
        "    self.grad = None\n",
        "    self.creator = None\n",
        "  \n",
        "  def set_creator(self,func):\n",
        "    self.creator = func"
      ],
      "execution_count": 23,
      "outputs": []
    },
    {
      "cell_type": "code",
      "metadata": {
        "id": "VhcHQ_gsO00-"
      },
      "source": [
        "class Function:\n",
        "  def __call__(self, input):\n",
        "    x = input.data\n",
        "    y = self.forward(x)\n",
        "    output = Variable(y)\n",
        "    output.set_creator(self)\n",
        "    self.input = input\n",
        "    self.output = output\n",
        "    return output"
      ],
      "execution_count": 28,
      "outputs": []
    },
    {
      "cell_type": "markdown",
      "metadata": {
        "id": "VGxFtAveSw7j"
      },
      "source": [
        "##7.3 backward 메서드 추가"
      ]
    },
    {
      "cell_type": "code",
      "metadata": {
        "id": "TqvZF2FCSyum"
      },
      "source": [
        "class Variable:\n",
        "  def __init__(self, data):\n",
        "    self.data = data\n",
        "    self.grad = None\n",
        "    self.creator = None\n",
        "\n",
        "  def set_creator(self, func):\n",
        "    self.creator = func\n",
        "\n",
        "  def backward(self):\n",
        "    f = self.creator\n",
        "    if f is not None:\n",
        "      x = f.input\n",
        "      x.grad = f.backward(self.grad)\n",
        "      x.backward()"
      ],
      "execution_count": 27,
      "outputs": []
    },
    {
      "cell_type": "code",
      "metadata": {
        "colab": {
          "base_uri": "https://localhost:8080/"
        },
        "id": "q4Ve_XjOTDog",
        "outputId": "1b031c1d-75c2-4cd1-938d-8b51c976c470"
      },
      "source": [
        "## ?????왜 계속 None으로 뜰까요.....\n",
        "A = Square()\n",
        "B = Exp()\n",
        "C = Square()\n",
        "\n",
        "x = Variable(np.array(0.5))\n",
        "a = A(x)\n",
        "b = B(a)\n",
        "y = C(b)\n",
        "\n",
        "y.grad = np.array(1.0)\n",
        "y.backward()\n",
        "print(x.grad)"
      ],
      "execution_count": 29,
      "outputs": [
        {
          "output_type": "stream",
          "name": "stdout",
          "text": [
            "None\n"
          ]
        }
      ]
    },
    {
      "cell_type": "markdown",
      "metadata": {
        "id": "zUpmIbChTcld"
      },
      "source": [
        "##8.2 반복문을 이용한 구현"
      ]
    },
    {
      "cell_type": "code",
      "metadata": {
        "id": "IeA2RuV0Titj"
      },
      "source": [
        "class Variable:\n",
        "  def __init__(self, data):\n",
        "    self.data = data\n",
        "    self.grad = None\n",
        "    self.creator = None\n",
        "\n",
        "  def set_creator(self, func):\n",
        "    self.creator = func\n",
        "\n",
        "  def backward(self):\n",
        "    funcs = [self.creator]\n",
        "    while funcs:\n",
        "      f = funcs.pop()\n",
        "      x, y = f.input, f.output\n",
        "      x.grad = f.backward(y.grad)\n",
        "\n",
        "      if x.creator is not None:\n",
        "        funcs.append(x.creator)"
      ],
      "execution_count": 30,
      "outputs": []
    },
    {
      "cell_type": "code",
      "metadata": {
        "id": "CHGviJXoUceA"
      },
      "source": [
        "A = Square()\n",
        "B = Exp()\n",
        "C = Square()\n",
        "\n",
        "x = Variable(np.array(0.5))\n",
        "a = A(x)\n",
        "b = B(a)\n",
        "y = C(b)\n",
        "\n",
        "y.grad = np.array(1.0)\n",
        "y.backward()\n",
        "print(x.grad)"
      ],
      "execution_count": null,
      "outputs": []
    },
    {
      "cell_type": "markdown",
      "metadata": {
        "id": "P2c2AgaiUd8J"
      },
      "source": [
        "##9.1 파이썬 함수로 이용하기"
      ]
    },
    {
      "cell_type": "code",
      "metadata": {
        "id": "dStMmdn8Uc3F"
      },
      "source": [
        "x = Variable(np.array(0.5))\n",
        "f = Square()\n",
        "y = f(x)\n",
        "\n",
        "def square(x):\n",
        "  return Square()(x)\n",
        "\n",
        "def exp(x):\n",
        "  return Exp()(x)"
      ],
      "execution_count": 32,
      "outputs": []
    },
    {
      "cell_type": "code",
      "metadata": {
        "id": "SG3TgCPbU8Zr"
      },
      "source": [
        "x = Variable(np.array(0.5))\n",
        "a = square(x)\n",
        "b = exp(a)\n",
        "y = square(b)\n",
        "\n",
        "y.grad = np.array(1.0)\n",
        "y.backward()\n",
        "print(x.grad)"
      ],
      "execution_count": null,
      "outputs": []
    },
    {
      "cell_type": "code",
      "metadata": {
        "id": "PVOtdLAuVK7f"
      },
      "source": [
        "x = Variable(np.array(0.5))\n",
        "y = square(exp(square(x)))\n",
        "y.grad = np.array(1.0)\n",
        "y.backward()\n",
        "print(x.grad)"
      ],
      "execution_count": null,
      "outputs": []
    },
    {
      "cell_type": "markdown",
      "metadata": {
        "id": "pFVCMNUOVLcz"
      },
      "source": [
        "##9.2 backward 메서드 간소화"
      ]
    },
    {
      "cell_type": "code",
      "metadata": {
        "id": "zyMyJMFBVNi9"
      },
      "source": [
        "class Variable:\n",
        "  def __init__(self, data):\n",
        "    self.data = data\n",
        "    self.grad = None\n",
        "    self.creator = None\n",
        "\n",
        "  def set_creator(self, func):\n",
        "    self.creator = func\n",
        "\n",
        "  def backward(self):\n",
        "    if self.grad is None:\n",
        "      self.grad = np.ones_like(self.data)\n",
        "    funcs = [self.creator]\n",
        "    while funcs:\n",
        "      f = funcs.pop()\n",
        "      x, y = f.input, f.output\n",
        "      x.grad = f.backward(y.grad)\n",
        "\n",
        "      if x.creator is not None:\n",
        "        funcs.append(x.creator)"
      ],
      "execution_count": 36,
      "outputs": []
    },
    {
      "cell_type": "markdown",
      "metadata": {
        "id": "143yEbCfVlUw"
      },
      "source": [
        "##9.3 ndarray만 취급하기"
      ]
    },
    {
      "cell_type": "code",
      "metadata": {
        "id": "s5gtG-6fVj8O"
      },
      "source": [
        "class Variable:\n",
        "  def __init__(self, data):\n",
        "    if data is not None:\n",
        "      if not isinstance(data, np.ndarray):\n",
        "        raise TypeError('{}은(는) 지원하지 않습니다.'.format(type(data)))\n",
        "    self.data = data\n",
        "    self.grad = None\n",
        "    self.creator = None\n",
        "\n",
        "  def set_creator(self, func):\n",
        "    self.creator = func\n",
        "\n",
        "  def backward(self):\n",
        "    if self.grad is None:\n",
        "      self.grad = np.ones_like(self.data)\n",
        "    funcs = [self.creator]\n",
        "    while funcs:\n",
        "      f = funcs.pop()\n",
        "      x, y = f.input, f.output\n",
        "      x.grad = f.backward(y.grad)\n",
        "\n",
        "      if x.creator is not None:\n",
        "        funcs.append(x.creator)"
      ],
      "execution_count": 38,
      "outputs": []
    },
    {
      "cell_type": "code",
      "metadata": {
        "id": "eNHPy2v9Vzjv"
      },
      "source": [
        "def as_array(x):\n",
        "  if np.isscalar(x):\n",
        "    return np.array(x)\n",
        "  return x"
      ],
      "execution_count": 39,
      "outputs": []
    },
    {
      "cell_type": "code",
      "metadata": {
        "id": "-Ut4yRfoV-RF"
      },
      "source": [
        "class Function:\n",
        "  def __call__(self, input):\n",
        "    x = input.data\n",
        "    y = self.forward(x)\n",
        "    output = Variable(as_array(y))\n",
        "    output.set_creator(self)\n",
        "    self.input = input\n",
        "    self.output = output\n",
        "    return output"
      ],
      "execution_count": 40,
      "outputs": []
    },
    {
      "cell_type": "markdown",
      "metadata": {
        "id": "o4ClM58bWCIX"
      },
      "source": [
        "##10.1 파이썬 단위 테스트"
      ]
    },
    {
      "cell_type": "code",
      "metadata": {
        "id": "G8IrOPBVWD52"
      },
      "source": [
        "import unittest\n",
        "class SquareTest(unittest.TestCase):\n",
        "  def test_forward(self):\n",
        "    x = Variable(np.array(2.0))\n",
        "    y = square(x)\n",
        "    expected = np.array(4.0)\n",
        "    self.assertEqual(y.data, expected)"
      ],
      "execution_count": 41,
      "outputs": []
    },
    {
      "cell_type": "markdown",
      "metadata": {
        "id": "f_KheKwlWbnU"
      },
      "source": [
        "##10.2 square 함수의 역전파 테스트"
      ]
    },
    {
      "cell_type": "code",
      "metadata": {
        "id": "YkwQgu3UWaxI"
      },
      "source": [
        "class SquareTest(unittest.TestCase):\n",
        "  def test_forward(self):\n",
        "    x = Variable(np.array(2.0))\n",
        "    y = square(x)\n",
        "    expected = np.array(4.0)\n",
        "    self.assertEqual(y.data, expected)\n",
        "\n",
        "  def test_backward(self):\n",
        "    x = Variable(np.array(3.0))\n",
        "    y = square(x)\n",
        "    y.backward()\n",
        "    expected = np.array(6.0)\n",
        "    self.assertEqual(x.grad, expected)"
      ],
      "execution_count": 43,
      "outputs": []
    },
    {
      "cell_type": "markdown",
      "metadata": {
        "id": "Xh3M3ahgWuG1"
      },
      "source": [
        "##10.3 기울기 확인을 이용한 자동 테스트"
      ]
    },
    {
      "cell_type": "code",
      "metadata": {
        "id": "6pRfy1bvWwx_"
      },
      "source": [
        "def numeric_diff(f, x, eps=1e-4):\n",
        "  x0 = Variable(x.data-eps)\n",
        "  x1 = Variable(x.data+eps)\n",
        "  y0 = f(x0)\n",
        "  y1 = f(x1)\n",
        "  return (y1.data-y0.data)/(2*eps)\n",
        "\n",
        "class SquareTest(unittest.TestCase):\n",
        "  def test_forward(self):\n",
        "    x = Variable(np.array(2.0))\n",
        "    y = square(x)\n",
        "    expected = np.array(4.0)\n",
        "    self.assertEqual(y.data, expected)\n",
        "\n",
        "  def test_backward(self):\n",
        "    x = Variable(np.array(3.0))\n",
        "    y = square(x)\n",
        "    y.backward()\n",
        "    expected = np.array(6.0)\n",
        "    self.assertEqual(x.grad, expected)\n",
        "\n",
        "  def test_gradient_check(self):\n",
        "    x = Variable(np.random.rand(1))\n",
        "    y = square(x)\n",
        "    y.backward()\n",
        "    num_grad = numerical_diff(square,x)\n",
        "    flg = np.allclose(x.grad, num_grad)\n",
        "    self.assertTrue(flg)"
      ],
      "execution_count": 44,
      "outputs": []
    }
  ]
}